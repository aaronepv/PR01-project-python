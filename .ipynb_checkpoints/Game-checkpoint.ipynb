{
 "cells": [
  {
   "cell_type": "markdown",
   "metadata": {},
   "source": [
    "## We import the tools that we are going to use"
   ]
  },
  {
   "cell_type": "code",
   "execution_count": 6,
   "metadata": {},
   "outputs": [],
   "source": [
    "#I will add in this cell all the tools that I will use during the project\n",
    "\n",
    "import random as rd"
   ]
  },
  {
   "cell_type": "markdown",
   "metadata": {},
   "source": []
  },
  {
   "cell_type": "markdown",
   "metadata": {},
   "source": [
    "## First, I need to create a list that contains all the characters that I want into my password"
   ]
  },
  {
   "cell_type": "code",
   "execution_count": 8,
   "metadata": {},
   "outputs": [],
   "source": [
    "digit1=[\"abcdefghijklmnopqrstuvwxyz\",\"0123456789\",\"ABCDEFGHIJKLMNOPQRSTUVWXYZ\",\"@#%$&*-_\"]"
   ]
  },
  {
   "cell_type": "markdown",
   "metadata": {},
   "source": [
    "## I need to create a function to ask for the length of the password"
   ]
  },
  {
   "cell_type": "code",
   "execution_count": 9,
   "metadata": {},
   "outputs": [
    {
     "name": "stdout",
     "output_type": "stream",
     "text": [
      "Please choose the lenght of your password\n",
      "Password lenght? 5\n",
      "Password lenght? 15\n",
      "Password lenght? 10\n",
      "10\n"
     ]
    }
   ],
   "source": [
    "\n",
    "def f_len():\n",
    "    print(\"Please choose the length of your password\")\n",
    "    number_len =int(0)\n",
    "    while number_len < 8 or number_len > 12:     \n",
    "        try:\n",
    "            number_len = int(input(\"Password length? \"))\n",
    "        except ValueError:\n",
    "            print(\"You can not choose a string\")\n",
    "        \n",
    "    return int(number_len)\n",
    "\n",
    "lenght = f_len()\n",
    "print(lenght)\n"
   ]
  },
  {
   "cell_type": "markdown",
   "metadata": {},
   "source": [
    "## I created a function that generates a password and convert to list to shuffle and after converting again to the string"
   ]
  },
  {
   "cell_type": "code",
   "execution_count": 10,
   "metadata": {},
   "outputs": [
    {
     "data": {
      "text/plain": [
       "'R39fn7$wD-'"
      ]
     },
     "execution_count": 10,
     "metadata": {},
     "output_type": "execute_result"
    }
   ],
   "source": [
    "def f_password():\n",
    "    password= \"\"\n",
    "    for c in range(lenght):\n",
    "        password +=rd.choice(digit1[c%len(digit1)])\n",
    "    password=list(password)\n",
    "    rd.shuffle(password)\n",
    "    password1= \"\"\n",
    "            \n",
    "    return password1.join(password)\n",
    "\n",
    "password=f_password()\n",
    "password"
   ]
  },
  {
   "cell_type": "markdown",
   "metadata": {},
   "source": [
    "## I created a function to check if the password that you got it is the right one"
   ]
  },
  {
   "cell_type": "code",
   "execution_count": 11,
   "metadata": {
    "scrolled": true
   },
   "outputs": [
    {
     "name": "stdout",
     "output_type": "stream",
     "text": [
      "We are going to check if your password is correct\n",
      "introduce your passwords\n",
      "Your introduced the wrong password, please try againdsd\n",
      "Your introduced the wrong password, please try againsdsds\n",
      "Your introduced the wrong password, please try againR39fn7$wD-\n",
      "Very good you introduced the right password number: R39fn7$wD-\n"
     ]
    },
    {
     "data": {
      "text/plain": [
       "'R39fn7$wD-'"
      ]
     },
     "execution_count": 11,
     "metadata": {},
     "output_type": "execute_result"
    }
   ],
   "source": [
    "def f_check():\n",
    "    print(\"We are going to check if your password is correct\")\n",
    "    number=input(\"introduce your password\")\n",
    "    while password != number:\n",
    "        number=input(\"You're introduced the wrong password, please try again\")\n",
    "                   \n",
    "            \n",
    "    print(f\"Very good you introduced the right password, your password number is: {password}\",)          \n",
    "        \n",
    "    return number\n",
    "\n",
    "f_check()\n"
   ]
  },
  {
   "cell_type": "code",
   "execution_count": null,
   "metadata": {},
   "outputs": [],
   "source": []
  },
  {
   "cell_type": "code",
   "execution_count": null,
   "metadata": {},
   "outputs": [],
   "source": []
  }
 ],
 "metadata": {
  "kernelspec": {
   "display_name": "Python 3",
   "language": "python",
   "name": "python3"
  },
  "language_info": {
   "codemirror_mode": {
    "name": "ipython",
    "version": 3
   },
   "file_extension": ".py",
   "mimetype": "text/x-python",
   "name": "python",
   "nbconvert_exporter": "python",
   "pygments_lexer": "ipython3",
   "version": "3.7.6"
  }
 },
 "nbformat": 4,
 "nbformat_minor": 4
}
